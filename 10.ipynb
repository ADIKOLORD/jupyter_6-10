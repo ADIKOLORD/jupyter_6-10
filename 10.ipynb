{
 "cells": [
  {
   "cell_type": "markdown",
   "metadata": {},
   "source": [
    "## 1. Создайте функцию которая принимает аргументом целое число и возвращает \"Четное\" если число четное или иначе \"Нечетное\".\n",
    "\n",
    "Вход:\n",
    "\n",
    "5\n",
    "\n",
    "Выход:\n",
    "\n",
    "Нечетное"
   ]
  },
  {
   "cell_type": "code",
   "execution_count": null,
   "metadata": {},
   "outputs": [],
   "source": [
    "def get_num(number: int):\n",
    "    if number % 2 == 0:\n",
    "        return 'Четное'\n",
    "    else:\n",
    "        return 'Нечетное'"
   ]
  },
  {
   "cell_type": "markdown",
   "metadata": {},
   "source": [
    "## 2. Создайте функцию которая принимает аргументом список с числами, верните сумму четных чисел.\n",
    "\n",
    "Вход:\n",
    "\n",
    "[1, 2, 3, 4]\n",
    "\n",
    "Выход:\n",
    "\n",
    "6"
   ]
  },
  {
   "cell_type": "code",
   "execution_count": null,
   "metadata": {},
   "outputs": [],
   "source": [
    "def get_sum_list(li: list):\n",
    "    return sum(li)"
   ]
  },
  {
   "cell_type": "markdown",
   "metadata": {},
   "source": [
    "## 3. Создайте функцию которая принимает аргументом список с числами, верните список первый элемент которого  - количество положительных чисел, а второй элемент - сумма отрицательных чисел.\n",
    "\n",
    "Вход:\n",
    "\n",
    "[1, 2, 3, 4, 5, 6, 7, 8, 9, 10, -11, -12, -13, -14, -15]\n",
    "\n",
    "Выход:\n",
    "\n",
    "[10, -65]."
   ]
  },
  {
   "cell_type": "code",
   "execution_count": null,
   "metadata": {},
   "outputs": [],
   "source": [
    "def count_+_-(li: list):\n",
    "    countch = 0\n",
    "    countnech = 0\n",
    "    for i in li:\n",
    "        if i >= 0:\n",
    "            countch += 1\n",
    "        else:\n",
    "            countnech += 1\n",
    "    return [countch, countnech]"
   ]
  },
  {
   "cell_type": "markdown",
   "metadata": {},
   "source": [
    "## 4. Фильтр чисел. Создайте функцию которая принимает аргументом список с числами и строками, верните список с числами, убрав строки.\n",
    "\n",
    "```\n",
    "filter_list([1,2,'a','b']) == [1,2]\n",
    "filter_list([1,'a','b',0,15]) == [1,0,15]\n",
    "filter_list([1,2,'aasf','1','123',123]) == [1,2,123]\n",
    "```"
   ]
  },
  {
   "cell_type": "code",
   "execution_count": null,
   "metadata": {},
   "outputs": [],
   "source": [
    "def filter_list(li: list):\n",
    "    new = []\n",
    "    for i in li:\n",
    "        if type(i) == type(1):\n",
    "            new.append(i)\n",
    "    return new"
   ]
  },
  {
   "cell_type": "markdown",
   "metadata": {},
   "source": [
    "## 5. Создайте функцию которая принимает аргументом целое число и возвращает число с обратным знаком.\n",
    "\n",
    "```\n",
    "1: -1\n",
    "14: -14\n",
    "-34: 34\n",
    "```"
   ]
  },
  {
   "cell_type": "code",
   "execution_count": null,
   "metadata": {},
   "outputs": [],
   "source": [
    "def obratno(num: int):\n",
    "    if num > 0:\n",
    "        return int(f'-{num}')\n",
    "    else:\n",
    "        return abs(num)"
   ]
  },
  {
   "cell_type": "markdown",
   "metadata": {},
   "source": [
    "## 6. Создайте функцию которая принимает аргументом строку и возвращает новую строку без первого и последнего знака.\n",
    "\n",
    "Вход:\n",
    "\n",
    "Hello\n",
    "\n",
    "Выход:\n",
    "\n",
    "ell"
   ]
  },
  {
   "cell_type": "code",
   "execution_count": null,
   "metadata": {},
   "outputs": [],
   "source": [
    "print(input()[1:-1])"
   ]
  },
  {
   "cell_type": "markdown",
   "metadata": {},
   "source": [
    "## 7. Создайте функцию `accum` по аналогии входа и выхода в примере:\n",
    "```\n",
    "accum(\"abcd\") -> \"a-bb-ccc-dddd\"\n",
    "accum(\"RqaEzty\") -> \"R-qq-aaa-EEEE-zzzzz-tttttt-yyyyyyy\"\n",
    "accum(\"cwAt\") -> \"c-ww-AAA-tttt\"\n",
    "```"
   ]
  },
  {
   "cell_type": "code",
   "execution_count": null,
   "metadata": {},
   "outputs": [],
   "source": [
    "n = input()\n",
    "word = []\n",
    "for i in range(len(n)):\n",
    "    word.append(n[i] * i)\n",
    "print('-'.join(word))"
   ]
  },
  {
   "cell_type": "markdown",
   "metadata": {},
   "source": [
    "## 8. Изограмма - это слово, в котором нет повторяющихся букв. Создайте функцию `is_isogram`, которое проверяет является ли слово изограммой. \n",
    "\n",
    "```\n",
    "is_isogram(\"Dermatoglyphics\" ) == True\n",
    "is_isogram(\"aba\" ) == False\n",
    "is_isogram(\"moOse\" ) == False\n",
    "```"
   ]
  },
  {
   "cell_type": "code",
   "execution_count": null,
   "metadata": {},
   "outputs": [],
   "source": [
    "def is_isogram(word: str):\n",
    "    if len(word.lower) == len(set(word.lower)):\n",
    "        return True\n",
    "    else:\n",
    "        return False"
   ]
  },
  {
   "cell_type": "markdown",
   "metadata": {},
   "source": [
    "## 9. На вход функции подаются слова. Выведите самое короткое слово.\n",
    "\n",
    "```\n",
    "shortest_word(\"Привет как дела\" ) => \"как\"\n",
    "```"
   ]
  },
  {
   "cell_type": "code",
   "execution_count": null,
   "metadata": {},
   "outputs": [],
   "source": [
    "def shortest_word(word: str):\n",
    "    word = word.split()\n",
    "    count = []\n",
    "    for i in word:\n",
    "        count.append(len(i))\n",
    "    c = count.index(min(count))\n",
    "    return word[c]"
   ]
  },
  {
   "cell_type": "markdown",
   "metadata": {},
   "source": [
    "## 10. Маскировка номера карты. На вход функции подаются числа. Выведите только последние 4 цифры, заменив остальные символом `#`.\n",
    "\n",
    "```\n",
    "maskify(\"4556364607935616\") == \"############5616\"\n",
    "maskify(     \"64607935616\") ==      \"#######5616\"\n",
    "```"
   ]
  },
  {
   "cell_type": "code",
   "execution_count": null,
   "metadata": {},
   "outputs": [],
   "source": [
    "def maskify(num: str):\n",
    "    return f'{'#' * len(num[:-4])}{num[-4:]}'"
   ]
  }
 ],
 "metadata": {
  "kernelspec": {
   "display_name": "Python 3",
   "language": "python",
   "name": "python3"
  },
  "language_info": {
   "codemirror_mode": {
    "name": "ipython",
    "version": 3
   },
   "file_extension": ".py",
   "mimetype": "text/x-python",
   "name": "python",
   "nbconvert_exporter": "python",
   "pygments_lexer": "ipython3",
   "version": "3.7.3"
  }
 },
 "nbformat": 4,
 "nbformat_minor": 4
}
