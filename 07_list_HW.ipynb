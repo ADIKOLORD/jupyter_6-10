{
 "cells": [
  {
   "cell_type": "markdown",
   "metadata": {},
   "source": [
    "### 1 Серия задач\n",
    "\n",
    "Имеется строка"
   ]
  },
  {
   "cell_type": "code",
   "execution_count": 2,
   "metadata": {},
   "outputs": [],
   "source": [
    "planets = \"Меркурий Венера Марс Jupiter Сатурн Уран Нептун\""
   ]
  },
  {
   "cell_type": "markdown",
   "metadata": {},
   "source": [
    "Сделайте из него список (.split()) и сохраните как planet_list."
   ]
  },
  {
   "cell_type": "code",
   "execution_count": 3,
   "metadata": {},
   "outputs": [],
   "source": [
    "planets = planets.split()"
   ]
  },
  {
   "cell_type": "markdown",
   "metadata": {},
   "source": [
    "Добавьте в этот список последним \"Плутон\""
   ]
  },
  {
   "cell_type": "code",
   "execution_count": 4,
   "metadata": {},
   "outputs": [],
   "source": [
    "planets.append('Плутон')"
   ]
  },
  {
   "cell_type": "markdown",
   "metadata": {},
   "source": [
    "Между \"Венера\" и \"Марс\" добавьте \"Земля\""
   ]
  },
  {
   "cell_type": "code",
   "execution_count": 5,
   "metadata": {},
   "outputs": [],
   "source": [
    "planets.insert(planets.index('Марс'), 'Земля')"
   ]
  },
  {
   "cell_type": "markdown",
   "metadata": {},
   "source": [
    "\"Jupiter\" переименуйте на \"Юпитер\" одной строкой кода"
   ]
  },
  {
   "cell_type": "code",
   "execution_count": 6,
   "metadata": {},
   "outputs": [],
   "source": [
    "planets[planets.index('Jupiter')] = \"Юпитер\""
   ]
  },
  {
   "cell_type": "markdown",
   "metadata": {},
   "source": [
    "Оказывается Плутон не планета. Удалите \"Плутон\" из нашего списка."
   ]
  },
  {
   "cell_type": "code",
   "execution_count": 7,
   "metadata": {},
   "outputs": [],
   "source": [
    "planets.remove('Плутон')"
   ]
  },
  {
   "cell_type": "markdown",
   "metadata": {},
   "source": [
    "Выведите количество планет в списке."
   ]
  },
  {
   "cell_type": "code",
   "execution_count": 8,
   "metadata": {},
   "outputs": [
    {
     "name": "stdout",
     "output_type": "stream",
     "text": [
      "8\n"
     ]
    }
   ],
   "source": [
    "print(len(planets))"
   ]
  },
  {
   "cell_type": "markdown",
   "metadata": {},
   "source": [
    "Покажите, используя срезы (slices) три планеты - Венера, Земля, Марс"
   ]
  },
  {
   "cell_type": "code",
   "execution_count": 9,
   "metadata": {},
   "outputs": [
    {
     "name": "stdout",
     "output_type": "stream",
     "text": [
      "['Венера', 'Земля', 'Марс']\n"
     ]
    }
   ],
   "source": [
    "print(planets[1:4])"
   ]
  },
  {
   "cell_type": "markdown",
   "metadata": {},
   "source": [
    "Используя срезу покажите две последние планеты"
   ]
  },
  {
   "cell_type": "code",
   "execution_count": 10,
   "metadata": {},
   "outputs": [
    {
     "name": "stdout",
     "output_type": "stream",
     "text": [
      "['Уран', 'Нептун']\n"
     ]
    }
   ],
   "source": [
    "print(planets[-2:])"
   ]
  },
  {
   "cell_type": "markdown",
   "metadata": {},
   "source": [
    "### 2 Серия задач\n",
    "\n",
    "Имеется таблица:\n",
    "\n",
    "|  Student | Mark |\n",
    "| --- | --- |\n",
    "| Джон | 4 |\n",
    "| Сара | 5 |\n",
    "| Девид | 5 |\n",
    "| Марк | 3 |\n",
    "| Клара | 2 |\n",
    "| Сэм | 2 |\n",
    "| Санта | 4 |\n",
    "| Крис | 5 |\n",
    "| Джастин | 4 |\n",
    "\n",
    "Имеются два столбца. Создайте два списка (Student и Mark). В первом будут имена студентов по порядку, указанному в таблице. Во втором списке в таком же порядке их оценки."
   ]
  },
  {
   "cell_type": "code",
   "execution_count": 13,
   "metadata": {},
   "outputs": [],
   "source": [
    "# Создайте здесь списки\n",
    "stu = {\n",
    "    \"Джон\": 4,\n",
    "    \"Сара\": 5,\n",
    "    \"Девид\": 5,\n",
    "    \"Марк\": 3,\n",
    "    \"Клара\": 2,\n",
    "    \"Сэм\": 2,\n",
    "    \"Санта\": 4,\n",
    "    \"Крис\": 5,\n",
    "    \"Джастин\": 4,\n",
    "}\n",
    "student = list(stu.keys())\n",
    "mark = list(stu.values())"
   ]
  },
  {
   "cell_type": "markdown",
   "metadata": {},
   "source": [
    "Добавился студент по имени Рассел и с оценкой 5. Добавьте его имя и оценки в соответствующие списки."
   ]
  },
  {
   "cell_type": "code",
   "execution_count": 14,
   "metadata": {},
   "outputs": [],
   "source": [
    "student.append('Рассел')\n",
    "mark.append(5)"
   ]
  },
  {
   "cell_type": "markdown",
   "metadata": {},
   "source": [
    "Выведите количество студентов в списке"
   ]
  },
  {
   "cell_type": "code",
   "execution_count": 15,
   "metadata": {},
   "outputs": [
    {
     "name": "stdout",
     "output_type": "stream",
     "text": [
      "10\n"
     ]
    }
   ],
   "source": [
    "print(len(student))"
   ]
  },
  {
   "cell_type": "markdown",
   "metadata": {},
   "source": [
    "Проверьте, имеется ли в списке студентов студент по имени Марк. Если ИСТИНА, выведите \"да\", иначе \"нет\"."
   ]
  },
  {
   "cell_type": "code",
   "execution_count": 16,
   "metadata": {},
   "outputs": [
    {
     "name": "stdout",
     "output_type": "stream",
     "text": [
      "Yes\n"
     ]
    }
   ],
   "source": [
    "if 'Марк' in student:\n",
    "    print('Yes')\n",
    "else:\n",
    "    print('No')"
   ]
  },
  {
   "cell_type": "markdown",
   "metadata": {},
   "source": [
    "Пробежитесь в цикле и выведите из двух списков значения таким образом, чтобы на каждой строке печаталось по следущему образцу:\n",
    "\n",
    "\"У студента по имени Джастин 4 балла\""
   ]
  },
  {
   "cell_type": "code",
   "execution_count": 17,
   "metadata": {},
   "outputs": [
    {
     "name": "stdout",
     "output_type": "stream",
     "text": [
      "У студента по имени Джон 4 балла\n",
      "У студента по имени Сара 5 балла\n",
      "У студента по имени Девид 5 балла\n",
      "У студента по имени Марк 3 балла\n",
      "У студента по имени Клара 2 балла\n",
      "У студента по имени Сэм 2 балла\n",
      "У студента по имени Санта 4 балла\n",
      "У студента по имени Крис 5 балла\n",
      "У студента по имени Джастин 4 балла\n",
      "У студента по имени Рассел 5 балла\n"
     ]
    }
   ],
   "source": [
    "for i in range(len(student)):\n",
    "    print(f\"У студента по имени {student[i]} {mark[i]} балла\")"
   ]
  },
  {
   "cell_type": "markdown",
   "metadata": {},
   "source": [
    "Создайте копии списков: Student_2, Mark_2."
   ]
  },
  {
   "cell_type": "code",
   "execution_count": 18,
   "metadata": {},
   "outputs": [],
   "source": [
    "student_2 = student.copy()\n",
    "mark_2 = mark.copy()"
   ]
  },
  {
   "cell_type": "markdown",
   "metadata": {},
   "source": [
    "Из оригинальных списков (не копий) удалите студентов и их оценки, если у них 2 балла. (можно вручную по одному, либо в цикле проверяя условие: если оценка == 2."
   ]
  },
  {
   "cell_type": "code",
   "execution_count": 21,
   "metadata": {},
   "outputs": [],
   "source": [
    "c = 0\n",
    "for i in student:\n",
    "    if mark[c] == 2:\n",
    "        student.pop(c)\n",
    "        mark.pop(c)\n",
    "    c += 1"
   ]
  },
  {
   "cell_type": "markdown",
   "metadata": {},
   "source": [
    "Выведите с 3 по 5 включительно имена студентов."
   ]
  },
  {
   "cell_type": "code",
   "execution_count": 22,
   "metadata": {},
   "outputs": [
    {
     "name": "stdout",
     "output_type": "stream",
     "text": [
      "['Марк', 'Санта', 'Крис']\n"
     ]
    }
   ],
   "source": [
    "print(student[3:6])"
   ]
  },
  {
   "cell_type": "markdown",
   "metadata": {},
   "source": [
    "Выведите имена студентов через раз. Джон, Девид, Клара... и тд"
   ]
  },
  {
   "cell_type": "code",
   "execution_count": 23,
   "metadata": {},
   "outputs": [
    {
     "name": "stdout",
     "output_type": "stream",
     "text": [
      "Джон,Сара,Девид,Марк,Санта,Крис,Джастин,Рассел\n"
     ]
    }
   ],
   "source": [
    "print(','.join(student))"
   ]
  },
  {
   "cell_type": "markdown",
   "metadata": {},
   "source": [
    "У вас сохранились копии списков (Student_2, Mark_2). Там в копии списков если оценка равна 2 - поставьте оценку 3."
   ]
  },
  {
   "cell_type": "code",
   "execution_count": 24,
   "metadata": {},
   "outputs": [],
   "source": [
    "for i in range(len(student)):\n",
    "    if mark[i] == 2:\n",
    "        mark[i] = 3"
   ]
  },
  {
   "cell_type": "markdown",
   "metadata": {},
   "source": [
    "Посчитайте у скольких студентов оценка 5"
   ]
  },
  {
   "cell_type": "code",
   "execution_count": 25,
   "metadata": {},
   "outputs": [
    {
     "name": "stdout",
     "output_type": "stream",
     "text": [
      "4\n"
     ]
    }
   ],
   "source": [
    "count_five = 0\n",
    "for i in range(len(student)):\n",
    "    if mark[i] == 5:\n",
    "        count_five += 1\n",
    "print(count_five)"
   ]
  },
  {
   "cell_type": "markdown",
   "metadata": {},
   "source": [
    "Выведите имена отличников (у кого 5). Через цикл и условие если оценка == 5."
   ]
  },
  {
   "cell_type": "code",
   "execution_count": 26,
   "metadata": {},
   "outputs": [
    {
     "name": "stdout",
     "output_type": "stream",
     "text": [
      "Сара\n",
      "Девид\n",
      "Крис\n",
      "Рассел\n"
     ]
    }
   ],
   "source": [
    "for i in range(len(student)):\n",
    "    if mark[i] == 5:\n",
    "        print(student[i])"
   ]
  }
 ],
 "metadata": {
  "kernelspec": {
   "display_name": "Python 3",
   "language": "python",
   "name": "python3"
  },
  "language_info": {
   "codemirror_mode": {
    "name": "ipython",
    "version": 3
   },
   "file_extension": ".py",
   "mimetype": "text/x-python",
   "name": "python",
   "nbconvert_exporter": "python",
   "pygments_lexer": "ipython3",
   "version": "3.7.3"
  }
 },
 "nbformat": 4,
 "nbformat_minor": 4
}
